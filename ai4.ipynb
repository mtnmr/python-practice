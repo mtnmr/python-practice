{
  "nbformat": 4,
  "nbformat_minor": 0,
  "metadata": {
    "colab": {
      "name": "ai4.ipynb",
      "provenance": [],
      "authorship_tag": "ABX9TyNb7mVegkmLPThr/PX5Botn",
      "include_colab_link": true
    },
    "kernelspec": {
      "name": "python3",
      "display_name": "Python 3"
    },
    "language_info": {
      "name": "python"
    }
  },
  "cells": [
    {
      "cell_type": "markdown",
      "metadata": {
        "id": "view-in-github",
        "colab_type": "text"
      },
      "source": [
        "<a href=\"https://colab.research.google.com/github/mtnmr/python-practice/blob/main/ai4.ipynb\" target=\"_parent\"><img src=\"https://colab.research.google.com/assets/colab-badge.svg\" alt=\"Open In Colab\"/></a>"
      ]
    },
    {
      "cell_type": "code",
      "source": [
        "import numpy as np\n",
        "import pandas as pd\n",
        "import seaborn as sns\n",
        "import matplotlib.pyplot as plt "
      ],
      "metadata": {
        "id": "7ItEPWjcjYkS"
      },
      "execution_count": 2,
      "outputs": []
    },
    {
      "cell_type": "code",
      "source": [
        "from sklearn.datasets import load_iris"
      ],
      "metadata": {
        "id": "3TFZpVWPjYm8"
      },
      "execution_count": 3,
      "outputs": []
    },
    {
      "cell_type": "code",
      "source": [
        "dataset = load_iris()"
      ],
      "metadata": {
        "id": "Lce9_9s1jYpT"
      },
      "execution_count": 4,
      "outputs": []
    },
    {
      "cell_type": "code",
      "source": [
        "x = dataset.data\n",
        "t = dataset.target"
      ],
      "metadata": {
        "id": "37KciREJjYr7"
      },
      "execution_count": 5,
      "outputs": []
    },
    {
      "cell_type": "code",
      "source": [
        "feature_names = dataset.feature_names\n",
        "feature_names"
      ],
      "metadata": {
        "colab": {
          "base_uri": "https://localhost:8080/"
        },
        "id": "CPoN7GsZjYuL",
        "outputId": "806d0d44-a74b-446d-f084-4121926b9f81"
      },
      "execution_count": 7,
      "outputs": [
        {
          "output_type": "execute_result",
          "data": {
            "text/plain": [
              "['sepal length (cm)',\n",
              " 'sepal width (cm)',\n",
              " 'petal length (cm)',\n",
              " 'petal width (cm)']"
            ]
          },
          "metadata": {},
          "execution_count": 7
        }
      ]
    },
    {
      "cell_type": "code",
      "source": [
        "pd.DataFrame(x, columns=feature_names)"
      ],
      "metadata": {
        "colab": {
          "base_uri": "https://localhost:8080/",
          "height": 424
        },
        "id": "6gyNOPvVjYzL",
        "outputId": "f3d00f2b-9642-421e-acef-7d71bb845456"
      },
      "execution_count": 8,
      "outputs": [
        {
          "output_type": "execute_result",
          "data": {
            "text/html": [
              "<div>\n",
              "<style scoped>\n",
              "    .dataframe tbody tr th:only-of-type {\n",
              "        vertical-align: middle;\n",
              "    }\n",
              "\n",
              "    .dataframe tbody tr th {\n",
              "        vertical-align: top;\n",
              "    }\n",
              "\n",
              "    .dataframe thead th {\n",
              "        text-align: right;\n",
              "    }\n",
              "</style>\n",
              "<table border=\"1\" class=\"dataframe\">\n",
              "  <thead>\n",
              "    <tr style=\"text-align: right;\">\n",
              "      <th></th>\n",
              "      <th>sepal length (cm)</th>\n",
              "      <th>sepal width (cm)</th>\n",
              "      <th>petal length (cm)</th>\n",
              "      <th>petal width (cm)</th>\n",
              "    </tr>\n",
              "  </thead>\n",
              "  <tbody>\n",
              "    <tr>\n",
              "      <th>0</th>\n",
              "      <td>5.1</td>\n",
              "      <td>3.5</td>\n",
              "      <td>1.4</td>\n",
              "      <td>0.2</td>\n",
              "    </tr>\n",
              "    <tr>\n",
              "      <th>1</th>\n",
              "      <td>4.9</td>\n",
              "      <td>3.0</td>\n",
              "      <td>1.4</td>\n",
              "      <td>0.2</td>\n",
              "    </tr>\n",
              "    <tr>\n",
              "      <th>2</th>\n",
              "      <td>4.7</td>\n",
              "      <td>3.2</td>\n",
              "      <td>1.3</td>\n",
              "      <td>0.2</td>\n",
              "    </tr>\n",
              "    <tr>\n",
              "      <th>3</th>\n",
              "      <td>4.6</td>\n",
              "      <td>3.1</td>\n",
              "      <td>1.5</td>\n",
              "      <td>0.2</td>\n",
              "    </tr>\n",
              "    <tr>\n",
              "      <th>4</th>\n",
              "      <td>5.0</td>\n",
              "      <td>3.6</td>\n",
              "      <td>1.4</td>\n",
              "      <td>0.2</td>\n",
              "    </tr>\n",
              "    <tr>\n",
              "      <th>...</th>\n",
              "      <td>...</td>\n",
              "      <td>...</td>\n",
              "      <td>...</td>\n",
              "      <td>...</td>\n",
              "    </tr>\n",
              "    <tr>\n",
              "      <th>145</th>\n",
              "      <td>6.7</td>\n",
              "      <td>3.0</td>\n",
              "      <td>5.2</td>\n",
              "      <td>2.3</td>\n",
              "    </tr>\n",
              "    <tr>\n",
              "      <th>146</th>\n",
              "      <td>6.3</td>\n",
              "      <td>2.5</td>\n",
              "      <td>5.0</td>\n",
              "      <td>1.9</td>\n",
              "    </tr>\n",
              "    <tr>\n",
              "      <th>147</th>\n",
              "      <td>6.5</td>\n",
              "      <td>3.0</td>\n",
              "      <td>5.2</td>\n",
              "      <td>2.0</td>\n",
              "    </tr>\n",
              "    <tr>\n",
              "      <th>148</th>\n",
              "      <td>6.2</td>\n",
              "      <td>3.4</td>\n",
              "      <td>5.4</td>\n",
              "      <td>2.3</td>\n",
              "    </tr>\n",
              "    <tr>\n",
              "      <th>149</th>\n",
              "      <td>5.9</td>\n",
              "      <td>3.0</td>\n",
              "      <td>5.1</td>\n",
              "      <td>1.8</td>\n",
              "    </tr>\n",
              "  </tbody>\n",
              "</table>\n",
              "<p>150 rows × 4 columns</p>\n",
              "</div>"
            ],
            "text/plain": [
              "     sepal length (cm)  sepal width (cm)  petal length (cm)  petal width (cm)\n",
              "0                  5.1               3.5                1.4               0.2\n",
              "1                  4.9               3.0                1.4               0.2\n",
              "2                  4.7               3.2                1.3               0.2\n",
              "3                  4.6               3.1                1.5               0.2\n",
              "4                  5.0               3.6                1.4               0.2\n",
              "..                 ...               ...                ...               ...\n",
              "145                6.7               3.0                5.2               2.3\n",
              "146                6.3               2.5                5.0               1.9\n",
              "147                6.5               3.0                5.2               2.0\n",
              "148                6.2               3.4                5.4               2.3\n",
              "149                5.9               3.0                5.1               1.8\n",
              "\n",
              "[150 rows x 4 columns]"
            ]
          },
          "metadata": {},
          "execution_count": 8
        }
      ]
    },
    {
      "cell_type": "code",
      "source": [
        "from sklearn.decomposition import PCA"
      ],
      "metadata": {
        "id": "8HnKTKK0jY1c"
      },
      "execution_count": 9,
      "outputs": []
    },
    {
      "cell_type": "code",
      "source": [
        "pca = PCA(n_components=2, random_state=0)"
      ],
      "metadata": {
        "id": "MGTEyTI4jY3y"
      },
      "execution_count": 10,
      "outputs": []
    },
    {
      "cell_type": "code",
      "source": [
        "pca.fit(x)"
      ],
      "metadata": {
        "colab": {
          "base_uri": "https://localhost:8080/"
        },
        "id": "NiLrvWG5jY6K",
        "outputId": "8ad16d09-02ce-433b-ccbb-e0db2c14ef74"
      },
      "execution_count": 11,
      "outputs": [
        {
          "output_type": "execute_result",
          "data": {
            "text/plain": [
              "PCA(n_components=2, random_state=0)"
            ]
          },
          "metadata": {},
          "execution_count": 11
        }
      ]
    },
    {
      "cell_type": "code",
      "source": [
        "pca.get_covariance()"
      ],
      "metadata": {
        "colab": {
          "base_uri": "https://localhost:8080/"
        },
        "id": "jxKLAanVjY8R",
        "outputId": "3ab59d8d-c0dd-475e-dd5b-f783048996a9"
      },
      "execution_count": 12,
      "outputs": [
        {
          "output_type": "execute_result",
          "data": {
            "text/plain": [
              "array([[ 0.67918961, -0.03571514,  1.2714061 ,  0.53137208],\n",
              "       [-0.03571514,  0.18303922, -0.32672469, -0.13706322],\n",
              "       [ 1.2714061 , -0.32672469,  3.12237957,  1.28464626],\n",
              "       [ 0.53137208, -0.13706322,  1.28464626,  0.58834865]])"
            ]
          },
          "metadata": {},
          "execution_count": 12
        }
      ]
    },
    {
      "cell_type": "code",
      "source": [
        "x_transformed = pca.transform(x)"
      ],
      "metadata": {
        "id": "DNkN5fkWjY-Z"
      },
      "execution_count": 14,
      "outputs": []
    },
    {
      "cell_type": "code",
      "source": [
        "pd.DataFrame(x_transformed, columns=['第一主成分', '第二主成分']).head()"
      ],
      "metadata": {
        "colab": {
          "base_uri": "https://localhost:8080/",
          "height": 206
        },
        "id": "cDMRdwfLjZAy",
        "outputId": "063e5a61-90d9-4fb0-db4d-c79f3e163555"
      },
      "execution_count": 16,
      "outputs": [
        {
          "output_type": "execute_result",
          "data": {
            "text/html": [
              "<div>\n",
              "<style scoped>\n",
              "    .dataframe tbody tr th:only-of-type {\n",
              "        vertical-align: middle;\n",
              "    }\n",
              "\n",
              "    .dataframe tbody tr th {\n",
              "        vertical-align: top;\n",
              "    }\n",
              "\n",
              "    .dataframe thead th {\n",
              "        text-align: right;\n",
              "    }\n",
              "</style>\n",
              "<table border=\"1\" class=\"dataframe\">\n",
              "  <thead>\n",
              "    <tr style=\"text-align: right;\">\n",
              "      <th></th>\n",
              "      <th>第一主成分</th>\n",
              "      <th>第二主成分</th>\n",
              "    </tr>\n",
              "  </thead>\n",
              "  <tbody>\n",
              "    <tr>\n",
              "      <th>0</th>\n",
              "      <td>-2.684126</td>\n",
              "      <td>0.319397</td>\n",
              "    </tr>\n",
              "    <tr>\n",
              "      <th>1</th>\n",
              "      <td>-2.714142</td>\n",
              "      <td>-0.177001</td>\n",
              "    </tr>\n",
              "    <tr>\n",
              "      <th>2</th>\n",
              "      <td>-2.888991</td>\n",
              "      <td>-0.144949</td>\n",
              "    </tr>\n",
              "    <tr>\n",
              "      <th>3</th>\n",
              "      <td>-2.745343</td>\n",
              "      <td>-0.318299</td>\n",
              "    </tr>\n",
              "    <tr>\n",
              "      <th>4</th>\n",
              "      <td>-2.728717</td>\n",
              "      <td>0.326755</td>\n",
              "    </tr>\n",
              "  </tbody>\n",
              "</table>\n",
              "</div>"
            ],
            "text/plain": [
              "      第一主成分     第二主成分\n",
              "0 -2.684126  0.319397\n",
              "1 -2.714142 -0.177001\n",
              "2 -2.888991 -0.144949\n",
              "3 -2.745343 -0.318299\n",
              "4 -2.728717  0.326755"
            ]
          },
          "metadata": {},
          "execution_count": 16
        }
      ]
    },
    {
      "cell_type": "code",
      "source": [
        "pca.explained_variance_ratio_[0]"
      ],
      "metadata": {
        "colab": {
          "base_uri": "https://localhost:8080/"
        },
        "id": "chIU6oAEjZDB",
        "outputId": "1e8965d0-cdf9-4a5f-ec74-c2a896cccef5"
      },
      "execution_count": 17,
      "outputs": [
        {
          "output_type": "execute_result",
          "data": {
            "text/plain": [
              "0.9246187232017271"
            ]
          },
          "metadata": {},
          "execution_count": 17
        }
      ]
    },
    {
      "cell_type": "code",
      "source": [
        "pca.explained_variance_ratio_[1]"
      ],
      "metadata": {
        "colab": {
          "base_uri": "https://localhost:8080/"
        },
        "id": "xSgHPmcOjZFZ",
        "outputId": "9a422940-8f21-4a85-d773-ac654ca6db54"
      },
      "execution_count": 18,
      "outputs": [
        {
          "output_type": "execute_result",
          "data": {
            "text/plain": [
              "0.05306648311706782"
            ]
          },
          "metadata": {},
          "execution_count": 18
        }
      ]
    },
    {
      "cell_type": "code",
      "source": [
        "np.unique(t)"
      ],
      "metadata": {
        "colab": {
          "base_uri": "https://localhost:8080/"
        },
        "id": "Xu1J-el0jZLT",
        "outputId": "9a2e1d8c-10ea-4242-d137-4d31a74dbd69"
      },
      "execution_count": 19,
      "outputs": [
        {
          "output_type": "execute_result",
          "data": {
            "text/plain": [
              "array([0, 1, 2])"
            ]
          },
          "metadata": {},
          "execution_count": 19
        }
      ]
    },
    {
      "cell_type": "code",
      "source": [
        "sns.scatterplot(x_transformed[:, 0], x_transformed[:, 1], hue=t, \n",
        "                palette=sns.color_palette(n_colors=3))"
      ],
      "metadata": {
        "colab": {
          "base_uri": "https://localhost:8080/",
          "height": 341
        },
        "id": "X4liHZCFjZOA",
        "outputId": "87125e17-5d26-4a4f-94d3-c982349b9799"
      },
      "execution_count": 21,
      "outputs": [
        {
          "output_type": "stream",
          "name": "stderr",
          "text": [
            "/usr/local/lib/python3.7/dist-packages/seaborn/_decorators.py:43: FutureWarning: Pass the following variables as keyword args: x, y. From version 0.12, the only valid positional argument will be `data`, and passing other arguments without an explicit keyword will result in an error or misinterpretation.\n",
            "  FutureWarning\n"
          ]
        },
        {
          "output_type": "execute_result",
          "data": {
            "text/plain": [
              "<matplotlib.axes._subplots.AxesSubplot at 0x7f6560edfdd0>"
            ]
          },
          "metadata": {},
          "execution_count": 21
        },
        {
          "output_type": "display_data",
          "data": {
            "image/png": "[encoded data removed]",
            "text/plain": [
              "<Figure size 432x288 with 1 Axes>"
            ]
          },
          "metadata": {
            "needs_background": "light"
          }
        }
      ]
    },
    {
      "cell_type": "code",
      "source": [
        "from sklearn.preprocessing import StandardScaler"
      ],
      "metadata": {
        "id": "BdmDTI8MjZQx"
      },
      "execution_count": 22,
      "outputs": []
    },
    {
      "cell_type": "code",
      "source": [
        "scaler = StandardScaler()"
      ],
      "metadata": {
        "id": "0Z3ZZDHQjZTv"
      },
      "execution_count": 23,
      "outputs": []
    },
    {
      "cell_type": "code",
      "source": [
        "x_scaled = scaler.fit_transform(x)"
      ],
      "metadata": {
        "id": "Gv3DepB9jZWf"
      },
      "execution_count": 24,
      "outputs": []
    },
    {
      "cell_type": "code",
      "source": [
        "pca = PCA(n_components=2, random_state=0)"
      ],
      "metadata": {
        "id": "VwVjK6wVjZY2"
      },
      "execution_count": 26,
      "outputs": []
    },
    {
      "cell_type": "code",
      "source": [
        "x_scaled_transform = pca.fit_transform(x_scaled)"
      ],
      "metadata": {
        "id": "6sh_EHdEjZbu"
      },
      "execution_count": 27,
      "outputs": []
    },
    {
      "cell_type": "code",
      "source": [
        "pd.DataFrame(x_scaled_transform, columns=['第一主成分', '第二主成分']).head()"
      ],
      "metadata": {
        "colab": {
          "base_uri": "https://localhost:8080/",
          "height": 206
        },
        "id": "mbGcrVY_jZeu",
        "outputId": "20fa1290-9932-47fe-b9b3-ad9bd6df7c73"
      },
      "execution_count": 28,
      "outputs": [
        {
          "output_type": "execute_result",
          "data": {
            "text/html": [
              "<div>\n",
              "<style scoped>\n",
              "    .dataframe tbody tr th:only-of-type {\n",
              "        vertical-align: middle;\n",
              "    }\n",
              "\n",
              "    .dataframe tbody tr th {\n",
              "        vertical-align: top;\n",
              "    }\n",
              "\n",
              "    .dataframe thead th {\n",
              "        text-align: right;\n",
              "    }\n",
              "</style>\n",
              "<table border=\"1\" class=\"dataframe\">\n",
              "  <thead>\n",
              "    <tr style=\"text-align: right;\">\n",
              "      <th></th>\n",
              "      <th>第一主成分</th>\n",
              "      <th>第二主成分</th>\n",
              "    </tr>\n",
              "  </thead>\n",
              "  <tbody>\n",
              "    <tr>\n",
              "      <th>0</th>\n",
              "      <td>-2.264703</td>\n",
              "      <td>0.480027</td>\n",
              "    </tr>\n",
              "    <tr>\n",
              "      <th>1</th>\n",
              "      <td>-2.080961</td>\n",
              "      <td>-0.674134</td>\n",
              "    </tr>\n",
              "    <tr>\n",
              "      <th>2</th>\n",
              "      <td>-2.364229</td>\n",
              "      <td>-0.341908</td>\n",
              "    </tr>\n",
              "    <tr>\n",
              "      <th>3</th>\n",
              "      <td>-2.299384</td>\n",
              "      <td>-0.597395</td>\n",
              "    </tr>\n",
              "    <tr>\n",
              "      <th>4</th>\n",
              "      <td>-2.389842</td>\n",
              "      <td>0.646835</td>\n",
              "    </tr>\n",
              "  </tbody>\n",
              "</table>\n",
              "</div>"
            ],
            "text/plain": [
              "      第一主成分     第二主成分\n",
              "0 -2.264703  0.480027\n",
              "1 -2.080961 -0.674134\n",
              "2 -2.364229 -0.341908\n",
              "3 -2.299384 -0.597395\n",
              "4 -2.389842  0.646835"
            ]
          },
          "metadata": {},
          "execution_count": 28
        }
      ]
    },
    {
      "cell_type": "code",
      "source": [
        "pca.explained_variance_ratio_[0]"
      ],
      "metadata": {
        "colab": {
          "base_uri": "https://localhost:8080/"
        },
        "id": "KTRQa17vjZk2",
        "outputId": "8a185729-66ff-4f41-a4cf-e5c5f69aa534"
      },
      "execution_count": 29,
      "outputs": [
        {
          "output_type": "execute_result",
          "data": {
            "text/plain": [
              "0.7296244541329987"
            ]
          },
          "metadata": {},
          "execution_count": 29
        }
      ]
    },
    {
      "cell_type": "code",
      "source": [
        "pca.explained_variance_ratio_[1]"
      ],
      "metadata": {
        "colab": {
          "base_uri": "https://localhost:8080/"
        },
        "id": "LsY7_EZ-jZnu",
        "outputId": "cc2bc3dc-2673-44ba-f5fa-1d9c5c98e39e"
      },
      "execution_count": 30,
      "outputs": [
        {
          "output_type": "execute_result",
          "data": {
            "text/plain": [
              "0.2285076178670178"
            ]
          },
          "metadata": {},
          "execution_count": 30
        }
      ]
    },
    {
      "cell_type": "code",
      "source": [
        "sns.scatterplot(x_scaled_transform[:, 0], x_scaled_transform[:, 1], hue=t, \n",
        "                palette=sns.color_palette(n_colors=3))"
      ],
      "metadata": {
        "colab": {
          "base_uri": "https://localhost:8080/",
          "height": 337
        },
        "id": "pwYYGId6jZqF",
        "outputId": "1a19cb75-2fd6-44a9-b431-331a1da3a09f"
      },
      "execution_count": 31,
      "outputs": [
        {
          "output_type": "stream",
          "name": "stderr",
          "text": [
            "/usr/local/lib/python3.7/dist-packages/seaborn/_decorators.py:43: FutureWarning: Pass the following variables as keyword args: x, y. From version 0.12, the only valid positional argument will be `data`, and passing other arguments without an explicit keyword will result in an error or misinterpretation.\n",
            "  FutureWarning\n"
          ]
        },
        {
          "output_type": "execute_result",
          "data": {
            "text/plain": [
              "<matplotlib.axes._subplots.AxesSubplot at 0x7f655f283450>"
            ]
          },
          "metadata": {},
          "execution_count": 31
        },
        {
          "output_type": "display_data",
          "data": {
            "image/png": "[encoded data removed]",
            "text/plain": [
              "<Figure size 432x288 with 1 Axes>"
            ]
          },
          "metadata": {
            "needs_background": "light"
          }
        }
      ]
    },
    {
      "cell_type": "code",
      "source": [
        "df = pd.read_csv('/content/convinience_store.csv')\n",
        "df.head()"
      ],
      "metadata": {
        "colab": {
          "base_uri": "https://localhost:8080/",
          "height": 206
        },
        "id": "CSj3mTHpjZtV",
        "outputId": "da304028-ff43-494b-c562-16676b05ab2c"
      },
      "execution_count": 33,
      "outputs": [
        {
          "output_type": "execute_result",
          "data": {
            "text/html": [
              "<div>\n",
              "<style scoped>\n",
              "    .dataframe tbody tr th:only-of-type {\n",
              "        vertical-align: middle;\n",
              "    }\n",
              "\n",
              "    .dataframe tbody tr th {\n",
              "        vertical-align: top;\n",
              "    }\n",
              "\n",
              "    .dataframe thead th {\n",
              "        text-align: right;\n",
              "    }\n",
              "</style>\n",
              "<table border=\"1\" class=\"dataframe\">\n",
              "  <thead>\n",
              "    <tr style=\"text-align: right;\">\n",
              "      <th></th>\n",
              "      <th>No</th>\n",
              "      <th>弁当・麺類</th>\n",
              "      <th>飲料</th>\n",
              "      <th>おにぎり・サンドイッチ</th>\n",
              "      <th>スイーツ</th>\n",
              "      <th>カップスープ</th>\n",
              "      <th>サラダ</th>\n",
              "    </tr>\n",
              "  </thead>\n",
              "  <tbody>\n",
              "    <tr>\n",
              "      <th>0</th>\n",
              "      <td>1</td>\n",
              "      <td>25350</td>\n",
              "      <td>3650</td>\n",
              "      <td>8945</td>\n",
              "      <td>0</td>\n",
              "      <td>4867</td>\n",
              "      <td>8945</td>\n",
              "    </tr>\n",
              "    <tr>\n",
              "      <th>1</th>\n",
              "      <td>2</td>\n",
              "      <td>24500</td>\n",
              "      <td>0</td>\n",
              "      <td>0</td>\n",
              "      <td>1827</td>\n",
              "      <td>0</td>\n",
              "      <td>0</td>\n",
              "    </tr>\n",
              "    <tr>\n",
              "      <th>2</th>\n",
              "      <td>3</td>\n",
              "      <td>23050</td>\n",
              "      <td>5750</td>\n",
              "      <td>11570</td>\n",
              "      <td>0</td>\n",
              "      <td>7667</td>\n",
              "      <td>11570</td>\n",
              "    </tr>\n",
              "    <tr>\n",
              "      <th>3</th>\n",
              "      <td>4</td>\n",
              "      <td>22850</td>\n",
              "      <td>4100</td>\n",
              "      <td>10145</td>\n",
              "      <td>0</td>\n",
              "      <td>5467</td>\n",
              "      <td>10145</td>\n",
              "    </tr>\n",
              "    <tr>\n",
              "      <th>4</th>\n",
              "      <td>5</td>\n",
              "      <td>22500</td>\n",
              "      <td>0</td>\n",
              "      <td>0</td>\n",
              "      <td>0</td>\n",
              "      <td>0</td>\n",
              "      <td>0</td>\n",
              "    </tr>\n",
              "  </tbody>\n",
              "</table>\n",
              "</div>"
            ],
            "text/plain": [
              "   No  弁当・麺類    飲料  おにぎり・サンドイッチ  スイーツ  カップスープ    サラダ\n",
              "0   1  25350  3650         8945     0    4867   8945\n",
              "1   2  24500     0            0  1827       0      0\n",
              "2   3  23050  5750        11570     0    7667  11570\n",
              "3   4  22850  4100        10145     0    5467  10145\n",
              "4   5  22500     0            0     0       0      0"
            ]
          },
          "metadata": {},
          "execution_count": 33
        }
      ]
    },
    {
      "cell_type": "code",
      "source": [
        "x = df.drop('No', axis=1).values"
      ],
      "metadata": {
        "id": "wDBe_34zjZwd"
      },
      "execution_count": 34,
      "outputs": []
    },
    {
      "cell_type": "code",
      "source": [
        "x[:5]"
      ],
      "metadata": {
        "colab": {
          "base_uri": "https://localhost:8080/"
        },
        "id": "IOmdLFWojZzc",
        "outputId": "bb3f8cbe-e777-4db8-a735-00cfc643be54"
      },
      "execution_count": 36,
      "outputs": [
        {
          "output_type": "execute_result",
          "data": {
            "text/plain": [
              "array([[25350,  3650,  8945,     0,  4867,  8945],\n",
              "       [24500,     0,     0,  1827,     0,     0],\n",
              "       [23050,  5750, 11570,     0,  7667, 11570],\n",
              "       [22850,  4100, 10145,     0,  5467, 10145],\n",
              "       [22500,     0,     0,     0,     0,     0]])"
            ]
          },
          "metadata": {},
          "execution_count": 36
        }
      ]
    },
    {
      "cell_type": "code",
      "source": [
        "from sklearn.cluster import KMeans"
      ],
      "metadata": {
        "id": "RP_cAiO6jZ20"
      },
      "execution_count": 37,
      "outputs": []
    },
    {
      "cell_type": "code",
      "source": [
        "kmeans = KMeans(n_clusters=3, random_state=0)"
      ],
      "metadata": {
        "id": "aGemef4vjZ6E"
      },
      "execution_count": 38,
      "outputs": []
    },
    {
      "cell_type": "code",
      "source": [
        "kmeans.fit(x)"
      ],
      "metadata": {
        "colab": {
          "base_uri": "https://localhost:8080/"
        },
        "id": "JFLieoEvxTt9",
        "outputId": "dca404a3-c73d-4e4f-94c1-8408560eb0ab"
      },
      "execution_count": 39,
      "outputs": [
        {
          "output_type": "execute_result",
          "data": {
            "text/plain": [
              "KMeans(n_clusters=3, random_state=0)"
            ]
          },
          "metadata": {},
          "execution_count": 39
        }
      ]
    },
    {
      "cell_type": "code",
      "source": [
        "kmeans.cluster_centers_"
      ],
      "metadata": {
        "colab": {
          "base_uri": "https://localhost:8080/"
        },
        "id": "mcO_ABHrxTwe",
        "outputId": "bf205606-abcc-4177-b795-6407bdd7d000"
      },
      "execution_count": 40,
      "outputs": [
        {
          "output_type": "execute_result",
          "data": {
            "text/plain": [
              "array([[ 5043.5483871 ,  3486.41935484,  7017.74193548,  2206.        ,\n",
              "         2512.90322581,  3509.12903226],\n",
              "       [28681.25      ,  5637.66666667,  1298.75      ,  1271.        ,\n",
              "         1770.875     ,   716.95833333],\n",
              "       [17266.66666667,  2730.93333333, 10721.66666667,   590.86666667,\n",
              "         3447.33333333,  9851.2       ]])"
            ]
          },
          "metadata": {},
          "execution_count": 40
        }
      ]
    },
    {
      "cell_type": "code",
      "source": [
        "cluster = kmeans.predict(x)\n",
        "cluster"
      ],
      "metadata": {
        "colab": {
          "base_uri": "https://localhost:8080/"
        },
        "id": "U3Ils2qkxTyu",
        "outputId": "eac7aad9-d772-47ab-eec5-14af9fc75410"
      },
      "execution_count": 42,
      "outputs": [
        {
          "output_type": "execute_result",
          "data": {
            "text/plain": [
              "array([2, 1, 2, 2, 1, 2, 1, 1, 1, 2, 1, 2, 2, 1, 2, 2, 2, 2, 0, 2, 2, 0,\n",
              "       2, 2, 0, 0, 0, 0, 0, 0, 0, 0, 0, 0, 0, 0, 0, 0, 0, 0, 0, 0, 0, 0,\n",
              "       0, 0, 0, 0, 0, 0, 0, 0, 0, 1, 1, 1, 1, 1, 1, 1, 1, 1, 1, 1, 1, 1,\n",
              "       1, 1, 1, 1], dtype=int32)"
            ]
          },
          "metadata": {},
          "execution_count": 42
        }
      ]
    },
    {
      "cell_type": "code",
      "source": [
        "df_cluster = df.copy()\n",
        "df_cluster['cluster'] = cluster"
      ],
      "metadata": {
        "id": "qz7VZg-CxT02"
      },
      "execution_count": 43,
      "outputs": []
    },
    {
      "cell_type": "code",
      "source": [
        "df_cluster.head()"
      ],
      "metadata": {
        "colab": {
          "base_uri": "https://localhost:8080/",
          "height": 206
        },
        "id": "D4DpY2HtxT22",
        "outputId": "a2bd24e5-cb0f-41f4-d831-a7b231187a04"
      },
      "execution_count": 44,
      "outputs": [
        {
          "output_type": "execute_result",
          "data": {
            "text/html": [
              "<div>\n",
              "<style scoped>\n",
              "    .dataframe tbody tr th:only-of-type {\n",
              "        vertical-align: middle;\n",
              "    }\n",
              "\n",
              "    .dataframe tbody tr th {\n",
              "        vertical-align: top;\n",
              "    }\n",
              "\n",
              "    .dataframe thead th {\n",
              "        text-align: right;\n",
              "    }\n",
              "</style>\n",
              "<table border=\"1\" class=\"dataframe\">\n",
              "  <thead>\n",
              "    <tr style=\"text-align: right;\">\n",
              "      <th></th>\n",
              "      <th>No</th>\n",
              "      <th>弁当・麺類</th>\n",
              "      <th>飲料</th>\n",
              "      <th>おにぎり・サンドイッチ</th>\n",
              "      <th>スイーツ</th>\n",
              "      <th>カップスープ</th>\n",
              "      <th>サラダ</th>\n",
              "      <th>cluster</th>\n",
              "    </tr>\n",
              "  </thead>\n",
              "  <tbody>\n",
              "    <tr>\n",
              "      <th>0</th>\n",
              "      <td>1</td>\n",
              "      <td>25350</td>\n",
              "      <td>3650</td>\n",
              "      <td>8945</td>\n",
              "      <td>0</td>\n",
              "      <td>4867</td>\n",
              "      <td>8945</td>\n",
              "      <td>2</td>\n",
              "    </tr>\n",
              "    <tr>\n",
              "      <th>1</th>\n",
              "      <td>2</td>\n",
              "      <td>24500</td>\n",
              "      <td>0</td>\n",
              "      <td>0</td>\n",
              "      <td>1827</td>\n",
              "      <td>0</td>\n",
              "      <td>0</td>\n",
              "      <td>1</td>\n",
              "    </tr>\n",
              "    <tr>\n",
              "      <th>2</th>\n",
              "      <td>3</td>\n",
              "      <td>23050</td>\n",
              "      <td>5750</td>\n",
              "      <td>11570</td>\n",
              "      <td>0</td>\n",
              "      <td>7667</td>\n",
              "      <td>11570</td>\n",
              "      <td>2</td>\n",
              "    </tr>\n",
              "    <tr>\n",
              "      <th>3</th>\n",
              "      <td>4</td>\n",
              "      <td>22850</td>\n",
              "      <td>4100</td>\n",
              "      <td>10145</td>\n",
              "      <td>0</td>\n",
              "      <td>5467</td>\n",
              "      <td>10145</td>\n",
              "      <td>2</td>\n",
              "    </tr>\n",
              "    <tr>\n",
              "      <th>4</th>\n",
              "      <td>5</td>\n",
              "      <td>22500</td>\n",
              "      <td>0</td>\n",
              "      <td>0</td>\n",
              "      <td>0</td>\n",
              "      <td>0</td>\n",
              "      <td>0</td>\n",
              "      <td>1</td>\n",
              "    </tr>\n",
              "  </tbody>\n",
              "</table>\n",
              "</div>"
            ],
            "text/plain": [
              "   No  弁当・麺類    飲料  おにぎり・サンドイッチ  スイーツ  カップスープ    サラダ  cluster\n",
              "0   1  25350  3650         8945     0    4867   8945        2\n",
              "1   2  24500     0            0  1827       0      0        1\n",
              "2   3  23050  5750        11570     0    7667  11570        2\n",
              "3   4  22850  4100        10145     0    5467  10145        2\n",
              "4   5  22500     0            0     0       0      0        1"
            ]
          },
          "metadata": {},
          "execution_count": 44
        }
      ]
    },
    {
      "cell_type": "code",
      "source": [
        "df_results = pd.DataFrame()"
      ],
      "metadata": {
        "id": "s9c6iY7dxT46"
      },
      "execution_count": 45,
      "outputs": []
    },
    {
      "cell_type": "code",
      "source": [
        "df_cluster[df_cluster['cluster'] == 0].mean()"
      ],
      "metadata": {
        "colab": {
          "base_uri": "https://localhost:8080/"
        },
        "id": "Vtcj1Z1o0Ree",
        "outputId": "43201988-6b31-4398-bd82-dc2255af139b"
      },
      "execution_count": 48,
      "outputs": [
        {
          "output_type": "execute_result",
          "data": {
            "text/plain": [
              "No               37.806452\n",
              "弁当・麺類          5043.548387\n",
              "飲料             3486.419355\n",
              "おにぎり・サンドイッチ    7017.741935\n",
              "スイーツ           2206.000000\n",
              "カップスープ         2512.903226\n",
              "サラダ            3509.129032\n",
              "cluster           0.000000\n",
              "dtype: float64"
            ]
          },
          "metadata": {},
          "execution_count": 48
        }
      ]
    },
    {
      "cell_type": "code",
      "source": [
        "df_cluster[df_cluster['cluster'] == 0].mean().tolist()"
      ],
      "metadata": {
        "colab": {
          "base_uri": "https://localhost:8080/"
        },
        "id": "RFuDGnSy0Rgt",
        "outputId": "1a173269-367c-43b5-d126-94d91e4cf7ee"
      },
      "execution_count": 49,
      "outputs": [
        {
          "output_type": "execute_result",
          "data": {
            "text/plain": [
              "[37.806451612903224,\n",
              " 5043.548387096775,\n",
              " 3486.4193548387098,\n",
              " 7017.741935483871,\n",
              " 2206.0,\n",
              " 2512.9032258064517,\n",
              " 3509.1290322580644,\n",
              " 0.0]"
            ]
          },
          "metadata": {},
          "execution_count": 49
        }
      ]
    },
    {
      "cell_type": "code",
      "source": [
        "df_results['cluster 0'] = df_cluster[df_cluster['cluster'] == 0].mean().tolist()\n",
        "df_results['cluster 1'] = df_cluster[df_cluster['cluster'] == 1].mean().tolist()\n",
        "df_results['cluster 2'] = df_cluster[df_cluster['cluster'] == 2].mean().tolist()"
      ],
      "metadata": {
        "id": "BAVj0SAf0Riz"
      },
      "execution_count": 52,
      "outputs": []
    },
    {
      "cell_type": "code",
      "source": [
        "df_results"
      ],
      "metadata": {
        "colab": {
          "base_uri": "https://localhost:8080/",
          "height": 300
        },
        "id": "jGLG4jMM0RlB",
        "outputId": "803a295a-13cd-4094-b49c-9f28fadc10fc"
      },
      "execution_count": 53,
      "outputs": [
        {
          "output_type": "execute_result",
          "data": {
            "text/html": [
              "<div>\n",
              "<style scoped>\n",
              "    .dataframe tbody tr th:only-of-type {\n",
              "        vertical-align: middle;\n",
              "    }\n",
              "\n",
              "    .dataframe tbody tr th {\n",
              "        vertical-align: top;\n",
              "    }\n",
              "\n",
              "    .dataframe thead th {\n",
              "        text-align: right;\n",
              "    }\n",
              "</style>\n",
              "<table border=\"1\" class=\"dataframe\">\n",
              "  <thead>\n",
              "    <tr style=\"text-align: right;\">\n",
              "      <th></th>\n",
              "      <th>cluster 0</th>\n",
              "      <th>cluster 1</th>\n",
              "      <th>cluster 2</th>\n",
              "    </tr>\n",
              "  </thead>\n",
              "  <tbody>\n",
              "    <tr>\n",
              "      <th>0</th>\n",
              "      <td>37.806452</td>\n",
              "      <td>46.250000</td>\n",
              "      <td>13.533333</td>\n",
              "    </tr>\n",
              "    <tr>\n",
              "      <th>1</th>\n",
              "      <td>5043.548387</td>\n",
              "      <td>28681.250000</td>\n",
              "      <td>17266.666667</td>\n",
              "    </tr>\n",
              "    <tr>\n",
              "      <th>2</th>\n",
              "      <td>3486.419355</td>\n",
              "      <td>5637.666667</td>\n",
              "      <td>2730.933333</td>\n",
              "    </tr>\n",
              "    <tr>\n",
              "      <th>3</th>\n",
              "      <td>7017.741935</td>\n",
              "      <td>1298.750000</td>\n",
              "      <td>10721.666667</td>\n",
              "    </tr>\n",
              "    <tr>\n",
              "      <th>4</th>\n",
              "      <td>2206.000000</td>\n",
              "      <td>1271.000000</td>\n",
              "      <td>590.866667</td>\n",
              "    </tr>\n",
              "    <tr>\n",
              "      <th>5</th>\n",
              "      <td>2512.903226</td>\n",
              "      <td>1770.875000</td>\n",
              "      <td>3447.333333</td>\n",
              "    </tr>\n",
              "    <tr>\n",
              "      <th>6</th>\n",
              "      <td>3509.129032</td>\n",
              "      <td>716.958333</td>\n",
              "      <td>9851.200000</td>\n",
              "    </tr>\n",
              "    <tr>\n",
              "      <th>7</th>\n",
              "      <td>0.000000</td>\n",
              "      <td>1.000000</td>\n",
              "      <td>2.000000</td>\n",
              "    </tr>\n",
              "  </tbody>\n",
              "</table>\n",
              "</div>"
            ],
            "text/plain": [
              "     cluster 0     cluster 1     cluster 2\n",
              "0    37.806452     46.250000     13.533333\n",
              "1  5043.548387  28681.250000  17266.666667\n",
              "2  3486.419355   5637.666667   2730.933333\n",
              "3  7017.741935   1298.750000  10721.666667\n",
              "4  2206.000000   1271.000000    590.866667\n",
              "5  2512.903226   1770.875000   3447.333333\n",
              "6  3509.129032    716.958333   9851.200000\n",
              "7     0.000000      1.000000      2.000000"
            ]
          },
          "metadata": {},
          "execution_count": 53
        }
      ]
    },
    {
      "cell_type": "code",
      "source": [
        "df_results = df_results.set_index(df_cluster.columns)\n",
        "df_results"
      ],
      "metadata": {
        "colab": {
          "base_uri": "https://localhost:8080/",
          "height": 300
        },
        "id": "ZIBQ54kj0RnZ",
        "outputId": "aa269dd0-29c2-43c3-c2bc-7ffff75db261"
      },
      "execution_count": 54,
      "outputs": [
        {
          "output_type": "execute_result",
          "data": {
            "text/html": [
              "<div>\n",
              "<style scoped>\n",
              "    .dataframe tbody tr th:only-of-type {\n",
              "        vertical-align: middle;\n",
              "    }\n",
              "\n",
              "    .dataframe tbody tr th {\n",
              "        vertical-align: top;\n",
              "    }\n",
              "\n",
              "    .dataframe thead th {\n",
              "        text-align: right;\n",
              "    }\n",
              "</style>\n",
              "<table border=\"1\" class=\"dataframe\">\n",
              "  <thead>\n",
              "    <tr style=\"text-align: right;\">\n",
              "      <th></th>\n",
              "      <th>cluster 0</th>\n",
              "      <th>cluster 1</th>\n",
              "      <th>cluster 2</th>\n",
              "    </tr>\n",
              "  </thead>\n",
              "  <tbody>\n",
              "    <tr>\n",
              "      <th>No</th>\n",
              "      <td>37.806452</td>\n",
              "      <td>46.250000</td>\n",
              "      <td>13.533333</td>\n",
              "    </tr>\n",
              "    <tr>\n",
              "      <th>弁当・麺類</th>\n",
              "      <td>5043.548387</td>\n",
              "      <td>28681.250000</td>\n",
              "      <td>17266.666667</td>\n",
              "    </tr>\n",
              "    <tr>\n",
              "      <th>飲料</th>\n",
              "      <td>3486.419355</td>\n",
              "      <td>5637.666667</td>\n",
              "      <td>2730.933333</td>\n",
              "    </tr>\n",
              "    <tr>\n",
              "      <th>おにぎり・サンドイッチ</th>\n",
              "      <td>7017.741935</td>\n",
              "      <td>1298.750000</td>\n",
              "      <td>10721.666667</td>\n",
              "    </tr>\n",
              "    <tr>\n",
              "      <th>スイーツ</th>\n",
              "      <td>2206.000000</td>\n",
              "      <td>1271.000000</td>\n",
              "      <td>590.866667</td>\n",
              "    </tr>\n",
              "    <tr>\n",
              "      <th>カップスープ</th>\n",
              "      <td>2512.903226</td>\n",
              "      <td>1770.875000</td>\n",
              "      <td>3447.333333</td>\n",
              "    </tr>\n",
              "    <tr>\n",
              "      <th>サラダ</th>\n",
              "      <td>3509.129032</td>\n",
              "      <td>716.958333</td>\n",
              "      <td>9851.200000</td>\n",
              "    </tr>\n",
              "    <tr>\n",
              "      <th>cluster</th>\n",
              "      <td>0.000000</td>\n",
              "      <td>1.000000</td>\n",
              "      <td>2.000000</td>\n",
              "    </tr>\n",
              "  </tbody>\n",
              "</table>\n",
              "</div>"
            ],
            "text/plain": [
              "               cluster 0     cluster 1     cluster 2\n",
              "No             37.806452     46.250000     13.533333\n",
              "弁当・麺類        5043.548387  28681.250000  17266.666667\n",
              "飲料           3486.419355   5637.666667   2730.933333\n",
              "おにぎり・サンドイッチ  7017.741935   1298.750000  10721.666667\n",
              "スイーツ         2206.000000   1271.000000    590.866667\n",
              "カップスープ       2512.903226   1770.875000   3447.333333\n",
              "サラダ          3509.129032    716.958333   9851.200000\n",
              "cluster         0.000000      1.000000      2.000000"
            ]
          },
          "metadata": {},
          "execution_count": 54
        }
      ]
    },
    {
      "cell_type": "code",
      "source": [
        "df_results.drop(['No', 'cluster']).T"
      ],
      "metadata": {
        "colab": {
          "base_uri": "https://localhost:8080/",
          "height": 143
        },
        "id": "FQhxQO4M0RpY",
        "outputId": "6f7d9c93-2e9c-4c6b-86c2-628b4e9f7ec0"
      },
      "execution_count": 55,
      "outputs": [
        {
          "output_type": "execute_result",
          "data": {
            "text/html": [
              "<div>\n",
              "<style scoped>\n",
              "    .dataframe tbody tr th:only-of-type {\n",
              "        vertical-align: middle;\n",
              "    }\n",
              "\n",
              "    .dataframe tbody tr th {\n",
              "        vertical-align: top;\n",
              "    }\n",
              "\n",
              "    .dataframe thead th {\n",
              "        text-align: right;\n",
              "    }\n",
              "</style>\n",
              "<table border=\"1\" class=\"dataframe\">\n",
              "  <thead>\n",
              "    <tr style=\"text-align: right;\">\n",
              "      <th></th>\n",
              "      <th>弁当・麺類</th>\n",
              "      <th>飲料</th>\n",
              "      <th>おにぎり・サンドイッチ</th>\n",
              "      <th>スイーツ</th>\n",
              "      <th>カップスープ</th>\n",
              "      <th>サラダ</th>\n",
              "    </tr>\n",
              "  </thead>\n",
              "  <tbody>\n",
              "    <tr>\n",
              "      <th>cluster 0</th>\n",
              "      <td>5043.548387</td>\n",
              "      <td>3486.419355</td>\n",
              "      <td>7017.741935</td>\n",
              "      <td>2206.000000</td>\n",
              "      <td>2512.903226</td>\n",
              "      <td>3509.129032</td>\n",
              "    </tr>\n",
              "    <tr>\n",
              "      <th>cluster 1</th>\n",
              "      <td>28681.250000</td>\n",
              "      <td>5637.666667</td>\n",
              "      <td>1298.750000</td>\n",
              "      <td>1271.000000</td>\n",
              "      <td>1770.875000</td>\n",
              "      <td>716.958333</td>\n",
              "    </tr>\n",
              "    <tr>\n",
              "      <th>cluster 2</th>\n",
              "      <td>17266.666667</td>\n",
              "      <td>2730.933333</td>\n",
              "      <td>10721.666667</td>\n",
              "      <td>590.866667</td>\n",
              "      <td>3447.333333</td>\n",
              "      <td>9851.200000</td>\n",
              "    </tr>\n",
              "  </tbody>\n",
              "</table>\n",
              "</div>"
            ],
            "text/plain": [
              "                  弁当・麺類           飲料  ...       カップスープ          サラダ\n",
              "cluster 0   5043.548387  3486.419355  ...  2512.903226  3509.129032\n",
              "cluster 1  28681.250000  5637.666667  ...  1770.875000   716.958333\n",
              "cluster 2  17266.666667  2730.933333  ...  3447.333333  9851.200000\n",
              "\n",
              "[3 rows x 6 columns]"
            ]
          },
          "metadata": {},
          "execution_count": 55
        }
      ]
    },
    {
      "cell_type": "code",
      "source": [
        ""
      ],
      "metadata": {
        "id": "kXhfkZzgjZ9M"
      },
      "execution_count": null,
      "outputs": []
    },
    {
      "cell_type": "code",
      "source": [
        ""
      ],
      "metadata": {
        "id": "V76_566qjaAD"
      },
      "execution_count": null,
      "outputs": []
    },
    {
      "cell_type": "code",
      "source": [
        ""
      ],
      "metadata": {
        "id": "JZm4fHacjaDL"
      },
      "execution_count": null,
      "outputs": []
    },
    {
      "cell_type": "code",
      "source": [
        ""
      ],
      "metadata": {
        "id": "WFWiDxNFjaGK"
      },
      "execution_count": null,
      "outputs": []
    },
    {
      "cell_type": "code",
      "source": [
        ""
      ],
      "metadata": {
        "id": "38lpKtU5jaI6"
      },
      "execution_count": null,
      "outputs": []
    }
  ]
}